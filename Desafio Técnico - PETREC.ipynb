{
 "cells": [
  {
   "cell_type": "markdown",
   "id": "d7480404",
   "metadata": {},
   "source": [
    "# 0 - Import das bibliotecas necessárias"
   ]
  },
  {
   "cell_type": "code",
   "execution_count": 1,
   "id": "29f7aa7d",
   "metadata": {},
   "outputs": [],
   "source": [
    "import matplotlib.pyplot as plt\n",
    "import numpy as np\n",
    "import tensorflow as tf\n",
    "import sklearn.metrics\n",
    "import itertools\n",
    "\n",
    "import tensorflow_datasets as tfds"
   ]
  },
  {
   "cell_type": "markdown",
   "id": "2a8644d5",
   "metadata": {},
   "source": [
    "# 1 - Treinamento\n",
    "\n",
    "Carregando a base de dados no conjunto de treinamento e de teste:"
   ]
  },
  {
   "cell_type": "code",
   "execution_count": 2,
   "id": "60427eb5",
   "metadata": {},
   "outputs": [],
   "source": [
    "(ds_train, ds_test), ds_info = tfds.load(\n",
    "    'mnist',\n",
    "    split=['train', 'test'],\n",
    "    shuffle_files=True,\n",
    "    as_supervised=True,\n",
    "    with_info=True\n",
    ")"
   ]
  },
  {
   "cell_type": "markdown",
   "id": "bbda552b",
   "metadata": {},
   "source": [
    "Normalizando as imagens do tipo `tf.uint8` para o tipo `tf.float32`, esperado pelo modelo, e embaralhando as amostras para garantir a aleatoriedade da base de treino, depois de armazenar a base de treinamento em cache para melhor performance. Também combinando elementos adjacentes do conjunto em batches para ter batches únicos em em cada época e fazendo o prefetching, para melhorar a performance."
   ]
  },
  {
   "cell_type": "code",
   "execution_count": 3,
   "id": "f9083a69",
   "metadata": {},
   "outputs": [],
   "source": [
    "def normalize_img(image, label):\n",
    "  return tf.cast(image, tf.float32) / 255., label\n",
    "\n",
    "ds_train = ds_train.map(\n",
    "    normalize_img, num_parallel_calls=tf.data.AUTOTUNE)\n",
    "ds_train = ds_train.cache()\n",
    "ds_train = ds_train.shuffle(ds_info.splits['train'].num_examples)\n",
    "ds_train = ds_train.batch(128)\n",
    "ds_train = ds_train.prefetch(tf.data.AUTOTUNE)"
   ]
  },
  {
   "cell_type": "markdown",
   "id": "b3dcec34",
   "metadata": {},
   "source": [
    "Normalizando as imagens para o conjunto de teste."
   ]
  },
  {
   "cell_type": "code",
   "execution_count": 4,
   "id": "c391242f",
   "metadata": {},
   "outputs": [],
   "source": [
    "ds_test = ds_test.map(\n",
    "    normalize_img, num_parallel_calls=tf.data.AUTOTUNE)"
   ]
  },
  {
   "cell_type": "markdown",
   "id": "47cf8f3d",
   "metadata": {},
   "source": [
    "Definindo a sequência de camadas do modelo com duas camadas ocultas de 96 neurônios e o configurando (usando o método `model.compile`) com o algoritmo Adam para otimização, usando como função custo a entropia cruzada entre os rótulos e predições e como métrica de performance também a entropia cruzada."
   ]
  },
  {
   "cell_type": "code",
   "execution_count": 5,
   "id": "8631ce10",
   "metadata": {},
   "outputs": [],
   "source": [
    "model = tf.keras.models.Sequential([\n",
    "  tf.keras.layers.Flatten(input_shape=(28, 28)),\n",
    "  tf.keras.layers.Dense(96, activation='relu'),\n",
    "  tf.keras.layers.Dense(96, activation='relu'),\n",
    "  tf.keras.layers.Dense(10)\n",
    "])\n",
    "model.compile(\n",
    "    optimizer=tf.keras.optimizers.Adam(0.001),\n",
    "    loss=tf.keras.losses.SparseCategoricalCrossentropy(from_logits=True),\n",
    "    metrics=[tf.keras.metrics.SparseCategoricalAccuracy()],\n",
    ")"
   ]
  },
  {
   "cell_type": "markdown",
   "id": "9ce26772",
   "metadata": {},
   "source": [
    "Treinando o modelo usando 10 épocas."
   ]
  },
  {
   "cell_type": "code",
   "execution_count": 6,
   "id": "83be8085",
   "metadata": {},
   "outputs": [
    {
     "name": "stdout",
     "output_type": "stream",
     "text": [
      "Epoch 1/10\n",
      "469/469 [==============================] - 2s 1ms/step - loss: 0.3467 - sparse_categorical_accuracy: 0.9035\n",
      "Epoch 2/10\n",
      "469/469 [==============================] - 1s 1ms/step - loss: 0.1439 - sparse_categorical_accuracy: 0.9572\n",
      "Epoch 3/10\n",
      "469/469 [==============================] - 1s 1ms/step - loss: 0.1011 - sparse_categorical_accuracy: 0.9703\n",
      "Epoch 4/10\n",
      "469/469 [==============================] - 1s 1ms/step - loss: 0.0763 - sparse_categorical_accuracy: 0.9764\n",
      "Epoch 5/10\n",
      "469/469 [==============================] - 1s 1ms/step - loss: 0.0612 - sparse_categorical_accuracy: 0.9814\n",
      "Epoch 6/10\n",
      "469/469 [==============================] - 1s 1ms/step - loss: 0.0506 - sparse_categorical_accuracy: 0.9843\n",
      "Epoch 7/10\n",
      "469/469 [==============================] - 1s 1ms/step - loss: 0.0398 - sparse_categorical_accuracy: 0.9875\n",
      "Epoch 8/10\n",
      "469/469 [==============================] - 1s 2ms/step - loss: 0.0342 - sparse_categorical_accuracy: 0.9890\n",
      "Epoch 9/10\n",
      "469/469 [==============================] - 1s 1ms/step - loss: 0.0291 - sparse_categorical_accuracy: 0.9909\n",
      "Epoch 10/10\n",
      "469/469 [==============================] - 1s 1ms/step - loss: 0.0232 - sparse_categorical_accuracy: 0.9932\n"
     ]
    },
    {
     "data": {
      "text/plain": [
       "<keras.callbacks.History at 0x1e26231a3d0>"
      ]
     },
     "execution_count": 6,
     "metadata": {},
     "output_type": "execute_result"
    }
   ],
   "source": [
    "model.fit(\n",
    "    ds_train,\n",
    "    epochs=10\n",
    ")"
   ]
  },
  {
   "cell_type": "markdown",
   "id": "bf6d5f99",
   "metadata": {},
   "source": [
    "Usando o método `model.summary` para exibir o número de variáveis treináveis (\"trainable params\" na tabela criada abaixo)."
   ]
  },
  {
   "cell_type": "code",
   "execution_count": 7,
   "id": "0024a8f6",
   "metadata": {},
   "outputs": [
    {
     "name": "stdout",
     "output_type": "stream",
     "text": [
      "Model: \"sequential\"\n",
      "_________________________________________________________________\n",
      " Layer (type)                Output Shape              Param #   \n",
      "=================================================================\n",
      " flatten (Flatten)           (None, 784)               0         \n",
      "                                                                 \n",
      " dense (Dense)               (None, 96)                75360     \n",
      "                                                                 \n",
      " dense_1 (Dense)             (None, 96)                9312      \n",
      "                                                                 \n",
      " dense_2 (Dense)             (None, 10)                970       \n",
      "                                                                 \n",
      "=================================================================\n",
      "Total params: 85,642\n",
      "Trainable params: 85,642\n",
      "Non-trainable params: 0\n",
      "_________________________________________________________________\n"
     ]
    }
   ],
   "source": [
    "model.summary()"
   ]
  },
  {
   "cell_type": "markdown",
   "id": "e874fe81",
   "metadata": {},
   "source": [
    "Salvando o modelo na pasta `saved_model`, e criando essa pasta caso ela não exista."
   ]
  },
  {
   "cell_type": "code",
   "execution_count": 8,
   "id": "2da40ba8",
   "metadata": {},
   "outputs": [
    {
     "name": "stderr",
     "output_type": "stream",
     "text": [
      "Já existe uma subpasta ou um arquivo -p.\n",
      "Erro ao processar: -p.\n",
      "Já existe uma subpasta ou um arquivo saved_model.\n",
      "Erro ao processar: saved_model.\n",
      "WARNING:absl:Found untraced functions such as _update_step_xla while saving (showing 1 of 1). These functions will not be directly callable after loading.\n"
     ]
    },
    {
     "name": "stdout",
     "output_type": "stream",
     "text": [
      "INFO:tensorflow:Assets written to: saved_model/my_model\\assets\n"
     ]
    },
    {
     "name": "stderr",
     "output_type": "stream",
     "text": [
      "INFO:tensorflow:Assets written to: saved_model/my_model\\assets\n"
     ]
    }
   ],
   "source": [
    "!mkdir -p saved_model\n",
    "model.save('saved_model/my_model')"
   ]
  },
  {
   "cell_type": "markdown",
   "id": "a0170215",
   "metadata": {},
   "source": [
    "# 2 - Avaliação do modelo\n",
    "\n",
    "Recuperando o modelo salvo."
   ]
  },
  {
   "cell_type": "code",
   "execution_count": 9,
   "id": "7873809c",
   "metadata": {},
   "outputs": [],
   "source": [
    "loaded_model = tf.keras.models.load_model('saved_model/my_model')"
   ]
  },
  {
   "cell_type": "markdown",
   "id": "5bf10023",
   "metadata": {},
   "source": [
    "Recuperando as imagens e rótulos do conjunto de teste a partir da base de dados `ds_test` e as convertendo para \"numpy arrays\"."
   ]
  },
  {
   "cell_type": "code",
   "execution_count": 10,
   "id": "b60ec266",
   "metadata": {},
   "outputs": [],
   "source": [
    "images, labels = tuple(zip(*ds_test))\n",
    "\n",
    "x_test = np.array(images)\n",
    "y_test = np.array(labels)"
   ]
  },
  {
   "cell_type": "markdown",
   "id": "a47b1727",
   "metadata": {},
   "source": [
    "Rodando o modelo no conjunto de imagens `x_test`."
   ]
  },
  {
   "cell_type": "code",
   "execution_count": 11,
   "id": "d872e880",
   "metadata": {},
   "outputs": [
    {
     "name": "stdout",
     "output_type": "stream",
     "text": [
      "313/313 [==============================] - 0s 652us/step\n"
     ]
    }
   ],
   "source": [
    "test_predictions = np.argmax(loaded_model.predict(x_test),axis=1)"
   ]
  },
  {
   "cell_type": "markdown",
   "id": "ef95756a",
   "metadata": {},
   "source": [
    "Gerando a matriz de confusão `cm` usando o `sklearn`."
   ]
  },
  {
   "cell_type": "code",
   "execution_count": 12,
   "id": "8a69780a",
   "metadata": {},
   "outputs": [],
   "source": [
    "cm = sklearn.metrics.confusion_matrix(y_test, test_predictions)"
   ]
  },
  {
   "cell_type": "markdown",
   "id": "d578195e",
   "metadata": {},
   "source": [
    "Exibindo a matriz de confusão usando o `pyplot`, escrevendo em cada \"bin\" da matriz o valor percentual correspondente."
   ]
  },
  {
   "cell_type": "code",
   "execution_count": 13,
   "id": "fa283bc5",
   "metadata": {
    "scrolled": false
   },
   "outputs": [
    {
     "data": {
      "text/plain": [
       "Text(0.5, 89.87999999999997, 'Predicted label')"
      ]
     },
     "execution_count": 13,
     "metadata": {},
     "output_type": "execute_result"
    },
    {
     "data": {
      "image/png": "[encoded data removed]",
      "text/plain": [
       "<Figure size 576x576 with 2 Axes>"
      ]
     },
     "metadata": {
      "needs_background": "light"
     },
     "output_type": "display_data"
    }
   ],
   "source": [
    "class_names = ['0','1','2','3','4','5','6','7','8','9']\n",
    "\n",
    "figure = plt.figure(figsize=(8, 8))\n",
    "plt.imshow(cm, interpolation='nearest', cmap=plt.cm.Blues)\n",
    "plt.title(\"Confusion matrix\")\n",
    "plt.colorbar()\n",
    "tick_marks = np.arange(len(class_names))\n",
    "plt.xticks(tick_marks, class_names)\n",
    "plt.yticks(tick_marks, class_names)\n",
    "\n",
    "# Achando o valor percentual para cada elemento da matriz:\n",
    "percent = np.around(cm.astype('float') / cm.sum(axis=1)[:, np.newaxis], decimals=2)\n",
    "\n",
    "# Escrevendo os valores acima na matriz, em preto se o fundo for claro\n",
    "# ou em branco se o fundo for escuro.\n",
    "threshold = cm.max() / 2.\n",
    "for i, j in itertools.product(range(cm.shape[0]), range(cm.shape[1])):\n",
    "    color = \"white\" if cm[i, j] > threshold else \"black\"\n",
    "    plt.text(j, i, percent[i, j], horizontalalignment=\"center\", color=color)\n",
    "\n",
    "plt.tight_layout()\n",
    "plt.ylabel('True label')\n",
    "plt.xlabel('Predicted label')"
   ]
  },
  {
   "cell_type": "markdown",
   "id": "701053d0",
   "metadata": {},
   "source": [
    "Calculando as métricas pedidas nas especificações."
   ]
  },
  {
   "cell_type": "code",
   "execution_count": 14,
   "id": "d9d8aec1",
   "metadata": {},
   "outputs": [
    {
     "name": "stdout",
     "output_type": "stream",
     "text": [
      "Precisão:   0.975 \n",
      "Recall:     0.975 \n",
      "Métrica F1: 0.975 \n",
      "Acurácia:   0.975 \n",
      "\n"
     ]
    }
   ],
   "source": [
    "precision = sklearn.metrics.precision_score(y_test, test_predictions, average='micro')\n",
    "recall = sklearn.metrics.recall_score(y_test, test_predictions, average='micro')\n",
    "f1 = sklearn.metrics.f1_score(y_test, test_predictions, average='micro')\n",
    "accuracy = sklearn.metrics.accuracy_score(y_test, test_predictions)\n",
    "\n",
    "print(\"Precisão:   {0} \\nRecall:     {1} \\nMétrica F1: {2} \\nAcurácia:   {3} \\n\".format(precision, recall, f1, accuracy))"
   ]
  },
  {
   "cell_type": "code",
   "execution_count": null,
   "id": "46d18d9b",
   "metadata": {},
   "outputs": [],
   "source": []
  }
 ],
 "metadata": {
  "kernelspec": {
   "display_name": "Python 3 (ipykernel)",
   "language": "python",
   "name": "python3"
  },
  "language_info": {
   "codemirror_mode": {
    "name": "ipython",
    "version": 3
   },
   "file_extension": ".py",
   "mimetype": "text/x-python",
   "name": "python",
   "nbconvert_exporter": "python",
   "pygments_lexer": "ipython3",
   "version": "3.9.12"
  }
 },
 "nbformat": 4,
 "nbformat_minor": 5
}
